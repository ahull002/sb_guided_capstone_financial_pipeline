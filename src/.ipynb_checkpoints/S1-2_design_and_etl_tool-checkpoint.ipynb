{
 "cells": [
  {
   "cell_type": "code",
   "execution_count": null,
   "metadata": {
    "application/vnd.databricks.v1+cell": {
     "inputWidgets": {},
     "nuid": "23e3e8f7-9381-4de5-87c8-d25749da38c5",
     "showTitle": false,
     "title": ""
    }
   },
   "outputs": [
    {
     "data": {
      "text/html": [
       "<style scoped>\n",
       "  .ansiout {\n",
       "    display: block;\n",
       "    unicode-bidi: embed;\n",
       "    white-space: pre-wrap;\n",
       "    word-wrap: break-word;\n",
       "    word-break: break-all;\n",
       "    font-family: \"Source Code Pro\", \"Menlo\", monospace;;\n",
       "    font-size: 13px;\n",
       "    color: #555;\n",
       "    margin-left: 4px;\n",
       "    line-height: 19px;\n",
       "  }\n",
       "</style>\n",
       "<div class=\"ansiout\"></div>"
      ]
     },
     "metadata": {
      "application/vnd.databricks.v1+output": {
       "addedWidgets": {},
       "arguments": {},
       "data": "<div class=\"ansiout\"></div>",
       "datasetInfos": [],
       "metadata": {},
       "removedWidgets": [],
       "type": "html"
      }
     },
     "output_type": "display_data"
    }
   ],
   "source": [
    "import pyspark\n",
    "from pyspark.sql import SparkSession"
   ]
  },
  {
   "cell_type": "code",
   "execution_count": null,
   "metadata": {
    "application/vnd.databricks.v1+cell": {
     "inputWidgets": {},
     "nuid": "3523450e-ca1e-4e1b-bc2c-61347ecc7431",
     "showTitle": false,
     "title": ""
    }
   },
   "outputs": [
    {
     "data": {
      "text/html": [
       "<style scoped>\n",
       "  .table-result-container {\n",
       "    max-height: 300px;\n",
       "    overflow: auto;\n",
       "  }\n",
       "  table, th, td {\n",
       "    border: 1px solid black;\n",
       "    border-collapse: collapse;\n",
       "  }\n",
       "  th, td {\n",
       "    padding: 5px;\n",
       "  }\n",
       "  th {\n",
       "    text-align: left;\n",
       "  }\n",
       "</style><div class='table-result-container'><table class='table-result'><thead style='background-color: white'><tr><th>path</th><th>name</th><th>size</th></tr></thead><tbody><tr><td>dbfs:/mnt/FileStore/MountFolder/data/.DS_Store</td><td>.DS_Store</td><td>6148</td></tr><tr><td>dbfs:/mnt/FileStore/MountFolder/data/csv/</td><td>csv/</td><td>0</td></tr><tr><td>dbfs:/mnt/FileStore/MountFolder/data/json/</td><td>json/</td><td>0</td></tr></tbody></table></div>"
      ]
     },
     "metadata": {
      "application/vnd.databricks.v1+output": {
       "addedWidgets": {},
       "aggData": [],
       "aggError": "",
       "aggOverflow": false,
       "aggSchema": [],
       "aggSeriesLimitReached": false,
       "aggType": "",
       "arguments": {},
       "columnCustomDisplayInfos": {},
       "data": [
        [
         "dbfs:/mnt/FileStore/MountFolder/data/.DS_Store",
         ".DS_Store",
         6148
        ],
        [
         "dbfs:/mnt/FileStore/MountFolder/data/csv/",
         "csv/",
         0
        ],
        [
         "dbfs:/mnt/FileStore/MountFolder/data/json/",
         "json/",
         0
        ]
       ],
       "datasetInfos": [],
       "dbfsResultPath": null,
       "isJsonSchema": true,
       "metadata": {},
       "overflow": false,
       "plotOptions": {
        "customPlotOptions": {},
        "displayType": "table",
        "pivotAggregation": null,
        "pivotColumns": null,
        "xColumns": null,
        "yColumns": null
       },
       "removedWidgets": [],
       "schema": [
        {
         "metadata": "{}",
         "name": "path",
         "type": "\"string\""
        },
        {
         "metadata": "{}",
         "name": "name",
         "type": "\"string\""
        },
        {
         "metadata": "{}",
         "name": "size",
         "type": "\"long\""
        }
       ],
       "type": "table"
      }
     },
     "output_type": "display_data"
    }
   ],
   "source": [
    "# Establish connection\n",
    "storageAccountName = 'storage1ngest'\n",
    "storageAccountAccessKey = 'something_goes_here=='\n",
    "blobContainerName = 'main'\n",
    "\n",
    "\n",
    "if not any(mount.mountPoint == '/mnt/FileStore/MountFolder/' for mount in dbutils.fs.mounts()):\n",
    "  try:\n",
    "    dbutils.fs.mount(\n",
    "    source = \"wasbs://{}@{}.blob.core.windows.net\".format(blobContainerName, storageAccountName),\n",
    "    mount_point = \"/mnt/FileStore/MountFolder/\",\n",
    "    extra_configs = {'fs.azure.account.key.' + storageAccountName + '.blob.core.windows.net': storageAccountAccessKey}\n",
    "  )\n",
    "  except Exception as e:\n",
    "    print(\"already mounted. Try to unmount first\")\n",
    "\n",
    "display(dbutils.fs.ls(\"dbfs:/mnt/FileStore/MountFolder/data\"))"
   ]
  },
  {
   "cell_type": "code",
   "execution_count": null,
   "metadata": {
    "application/vnd.databricks.v1+cell": {
     "inputWidgets": {},
     "nuid": "d35e54f4-9e3f-43f1-afd7-0274d607d74e",
     "showTitle": false,
     "title": ""
    }
   },
   "outputs": [
    {
     "data": {
      "text/html": [
       "<style scoped>\n",
       "  .ansiout {\n",
       "    display: block;\n",
       "    unicode-bidi: embed;\n",
       "    white-space: pre-wrap;\n",
       "    word-wrap: break-word;\n",
       "    word-break: break-all;\n",
       "    font-family: \"Source Code Pro\", \"Menlo\", monospace;;\n",
       "    font-size: 13px;\n",
       "    color: #555;\n",
       "    margin-left: 4px;\n",
       "    line-height: 19px;\n",
       "  }\n",
       "</style>\n",
       "<div class=\"ansiout\">/mnt/mounter1 has been unmounted.\n",
       "Out[4]: True</div>"
      ]
     },
     "metadata": {
      "application/vnd.databricks.v1+output": {
       "addedWidgets": {},
       "arguments": {},
       "data": "<div class=\"ansiout\">/mnt/mounter1 has been unmounted.\nOut[4]: True</div>",
       "datasetInfos": [],
       "metadata": {},
       "removedWidgets": [],
       "type": "html"
      }
     },
     "output_type": "display_data"
    }
   ],
   "source": [
    "# Un-Mounter: Connection script\n",
    "#Only use this to unmount container\n",
    "#dbutils.fs.unmount(\"/mnt/mounter1\")"
   ]
  },
  {
   "cell_type": "code",
   "execution_count": null,
   "metadata": {
    "application/vnd.databricks.v1+cell": {
     "inputWidgets": {},
     "nuid": "eb86973e-61d1-41e1-9c80-9751ba6c45d1",
     "showTitle": false,
     "title": ""
    }
   },
   "outputs": [
    {
     "data": {
      "text/html": [
       "<style scoped>\n",
       "  .ansiout {\n",
       "    display: block;\n",
       "    unicode-bidi: embed;\n",
       "    white-space: pre-wrap;\n",
       "    word-wrap: break-word;\n",
       "    word-break: break-all;\n",
       "    font-family: \"Source Code Pro\", \"Menlo\", monospace;;\n",
       "    font-size: 13px;\n",
       "    color: #555;\n",
       "    margin-left: 4px;\n",
       "    line-height: 19px;\n",
       "  }\n",
       "</style>\n",
       "<div class=\"ansiout\"></div>"
      ]
     },
     "metadata": {
      "application/vnd.databricks.v1+output": {
       "addedWidgets": {},
       "arguments": {},
       "data": "<div class=\"ansiout\"></div>",
       "datasetInfos": [],
       "metadata": {},
       "removedWidgets": [],
       "type": "html"
      }
     },
     "output_type": "display_data"
    }
   ],
   "source": [
    "# CSV PARSER\n",
    "# Import Libraries\n",
    "from pyspark.sql import SparkSession\n",
    "from pyspark.sql.types import StructType,StructField, StringType, IntegerType ,LongType\n",
    "from pyspark.sql.types import ArrayType, DoubleType, BooleanType, DateType, TimestampType, DecimalType\n",
    "\n",
    "import datetime\n",
    "from typing import List\n",
    "from decimal import Decimal\n",
    "\n",
    "\n",
    "# Parse .csv files\n",
    "def parse_csv(line:str):\n",
    "    \"\"\"\n",
    "      Function to parse comma seperated records\n",
    "      \n",
    "    \"\"\"        \n",
    "    try:\n",
    "        # position of the record_type field\n",
    "        record_type_pos = 2\n",
    "\n",
    "        # get the common fields applicable to both 'Q' and 'T' type records\n",
    "        record = line.split(\",\")\n",
    "        trade_dt= datetime.datetime.strptime(record[0], '%Y-%m-%d')\n",
    "        arrival_tm=datetime.datetime.strptime(record[1], '%Y-%m-%d %H:%M:%S.%f')\n",
    "        rec_type=record[2]\n",
    "        symbol=record[3]\n",
    "        exchange=record[6]\n",
    "        event_tm=datetime.datetime.strptime(record[4], '%Y-%m-%d %H:%M:%S.%f')\n",
    "        event_seq_nb=int(record[5])\n",
    "        \n",
    "        # fields specific to record_type is 'T'\n",
    "        if record[record_type_pos] == \"T\":\n",
    "            trade_pr=Decimal(record[7])\n",
    "            event = (trade_dt,rec_type,symbol,exchange,event_tm,event_seq_nb,arrival_tm,\\\n",
    "                     trade_pr,Decimal('0.0'),0,Decimal('0.0'),0,\"T\")\n",
    "            return event\n",
    "        \n",
    "        # fields specific to record_type is 'Q'\n",
    "        elif record[record_type_pos] == \"Q\":\n",
    "            bid_pr=Decimal(record[7])\n",
    "            bid_size=int(record[8])\n",
    "            ask_pr=Decimal(record[9])\n",
    "            ask_size=int(record[10])\n",
    "\n",
    "            event = (trade_dt,rec_type,symbol,exchange,event_tm,event_seq_nb,arrival_tm,\\\n",
    "                     Decimal('0.0'),bid_pr,bid_size,ask_pr,ask_size,\"Q\")\n",
    "            return event\n",
    "    # capture record in a bad partition if any error occurs\n",
    "    except Exception as e:\n",
    "      return (\"\",\"\",\"\",\"\",\"\",\"\",\"\",\"\",\"\",\"\",\"\",\"B\",line)\n",
    "        \n",
    "# schema to parse both Q and T type records\n",
    "common_event = StructType() \\\n",
    "              .add(\"trade_dt\",DateType(),True) \\\n",
    "              .add(\"rec_type\",StringType(),True) \\\n",
    "              .add(\"symbol\",StringType(),True) \\\n",
    "              .add(\"exchange\",StringType(),True) \\\n",
    "              .add(\"event_tm\",TimestampType(),True) \\\n",
    "              .add(\"event_seq_nb\",IntegerType(),True) \\\n",
    "              .add(\"arrival_tm\",TimestampType(),True) \\\n",
    "              .add(\"trade_pr\",DecimalType(17,14),True) \\\n",
    "              .add(\"bid_pr\",DecimalType(17,14),True) \\\n",
    "              .add(\"bid_size\",IntegerType(),True) \\\n",
    "              .add(\"ask_pr\",DecimalType(17,14),True) \\\n",
    "              .add(\"ask_size\",IntegerType(),True) \\\n",
    "              .add(\"partition\",StringType(),True)\n",
    "              \n",
    "## Spark to process the source data (below line is for local execution)\n",
    "spark = SparkSession.builder.master('local').\\\n",
    "        appName('app').getOrCreate()\n",
    "\n",
    "\n",
    "raw = spark.sparkContext.\\\n",
    "           textFile(\"dbfs:/mnt/FileStore/MountFolder/data/csv/*/NYSE/*.txt\")\n",
    "\n",
    "# Parse the text file and parse using the parse_csv function to get the rdd in proper format. \n",
    "parsed = raw.map(lambda line: parse_csv(line))\n",
    "data_csv = spark.createDataFrame(parsed,schema=common_event)\n",
    "\n",
    "# Save the final dataframe as parquet files in partitions\n",
    "data_csv.write.partitionBy(\"partition\").mode(\"overwrite\").parquet(\"dbfs:/mnt/FileStore/MountFolder/output_dir\")"
   ]
  },
  {
   "cell_type": "code",
   "execution_count": null,
   "metadata": {
    "application/vnd.databricks.v1+cell": {
     "inputWidgets": {},
     "nuid": "3073d428-1843-4d51-a374-46a508c1ecfe",
     "showTitle": false,
     "title": ""
    }
   },
   "outputs": [
    {
     "data": {
      "text/html": [
       "<style scoped>\n",
       "  .ansiout {\n",
       "    display: block;\n",
       "    unicode-bidi: embed;\n",
       "    white-space: pre-wrap;\n",
       "    word-wrap: break-word;\n",
       "    word-break: break-all;\n",
       "    font-family: \"Source Code Pro\", \"Menlo\", monospace;;\n",
       "    font-size: 13px;\n",
       "    color: #555;\n",
       "    margin-left: 4px;\n",
       "    line-height: 19px;\n",
       "  }\n",
       "</style>\n",
       "<div class=\"ansiout\">+----------+--------+------+--------+-----------------------+------------+-------------------+-----------------+-----------------+--------+-----------------+--------+---------+\n",
       "trade_dt  |rec_type|symbol|exchange|event_tm               |event_seq_nb|arrival_tm         |trade_pr         |bid_pr           |bid_size|ask_pr           |ask_size|partition|\n",
       "+----------+--------+------+--------+-----------------------+------------+-------------------+-----------------+-----------------+--------+-----------------+--------+---------+\n",
       "2020-08-05|Q       |SYMA  |NYSE    |2020-08-05 09:34:51.505|1           |2020-08-05 09:30:00|0E-14            |75.30254839137037|100     |75.35916738004924|100     |Q        |\n",
       "2020-08-05|Q       |SYMA  |NYSE    |2020-08-05 09:40:52.586|2           |2020-08-05 09:30:00|0E-14            |77.20874619466693|100     |78.90918015646369|100     |Q        |\n",
       "2020-08-05|Q       |SYMA  |NYSE    |2020-08-05 09:50:04.681|3           |2020-08-05 09:30:00|0E-14            |77.15973273251218|100     |77.33204694110470|100     |Q        |\n",
       "2020-08-05|Q       |SYMA  |NYSE    |2020-08-05 09:57:46.343|4           |2020-08-05 09:30:00|0E-14            |79.29977331004093|100     |80.08399307353596|100     |Q        |\n",
       "2020-08-05|Q       |SYMA  |NYSE    |2020-08-05 10:06:50.886|5           |2020-08-05 09:30:00|0E-14            |77.86349512170780|100     |78.30821537434917|100     |Q        |\n",
       "2020-08-05|Q       |SYMA  |NYSE    |2020-08-05 10:11:43.839|6           |2020-08-05 09:30:00|0E-14            |78.74799689143143|100     |80.32905299746953|100     |Q        |\n",
       "2020-08-05|Q       |SYMA  |NYSE    |2020-08-05 10:17:02.044|7           |2020-08-05 09:30:00|0E-14            |77.16837620945849|100     |77.97598027909252|100     |Q        |\n",
       "2020-08-05|Q       |SYMA  |NYSE    |2020-08-05 10:23:58.216|8           |2020-08-05 09:30:00|0E-14            |78.06551496692607|100     |78.80516026628197|100     |Q        |\n",
       "2020-08-05|Q       |SYMA  |NYSE    |2020-08-05 10:31:40.057|9           |2020-08-05 09:30:00|0E-14            |76.69653634240801|100     |78.56942375735030|100     |Q        |\n",
       "2020-08-05|T       |SYMA  |NYSE    |2020-08-05 10:37:21.581|10          |2020-08-05 09:30:00|79.19488165597565|0E-14            |0       |0E-14            |0       |T        |\n",
       "+----------+--------+------+--------+-----------------------+------------+-------------------+-----------------+-----------------+--------+-----------------+--------+---------+\n",
       "only showing top 10 rows\n",
       "\n",
       "</div>"
      ]
     },
     "metadata": {
      "application/vnd.databricks.v1+output": {
       "addedWidgets": {},
       "arguments": {},
       "data": "<div class=\"ansiout\">+----------+--------+------+--------+-----------------------+------------+-------------------+-----------------+-----------------+--------+-----------------+--------+---------+\n|trade_dt  |rec_type|symbol|exchange|event_tm               |event_seq_nb|arrival_tm         |trade_pr         |bid_pr           |bid_size|ask_pr           |ask_size|partition|\n+----------+--------+------+--------+-----------------------+------------+-------------------+-----------------+-----------------+--------+-----------------+--------+---------+\n|2020-08-05|Q       |SYMA  |NYSE    |2020-08-05 09:34:51.505|1           |2020-08-05 09:30:00|0E-14            |75.30254839137037|100     |75.35916738004924|100     |Q        |\n|2020-08-05|Q       |SYMA  |NYSE    |2020-08-05 09:40:52.586|2           |2020-08-05 09:30:00|0E-14            |77.20874619466693|100     |78.90918015646369|100     |Q        |\n|2020-08-05|Q       |SYMA  |NYSE    |2020-08-05 09:50:04.681|3           |2020-08-05 09:30:00|0E-14            |77.15973273251218|100     |77.33204694110470|100     |Q        |\n|2020-08-05|Q       |SYMA  |NYSE    |2020-08-05 09:57:46.343|4           |2020-08-05 09:30:00|0E-14            |79.29977331004093|100     |80.08399307353596|100     |Q        |\n|2020-08-05|Q       |SYMA  |NYSE    |2020-08-05 10:06:50.886|5           |2020-08-05 09:30:00|0E-14            |77.86349512170780|100     |78.30821537434917|100     |Q        |\n|2020-08-05|Q       |SYMA  |NYSE    |2020-08-05 10:11:43.839|6           |2020-08-05 09:30:00|0E-14            |78.74799689143143|100     |80.32905299746953|100     |Q        |\n|2020-08-05|Q       |SYMA  |NYSE    |2020-08-05 10:17:02.044|7           |2020-08-05 09:30:00|0E-14            |77.16837620945849|100     |77.97598027909252|100     |Q        |\n|2020-08-05|Q       |SYMA  |NYSE    |2020-08-05 10:23:58.216|8           |2020-08-05 09:30:00|0E-14            |78.06551496692607|100     |78.80516026628197|100     |Q        |\n|2020-08-05|Q       |SYMA  |NYSE    |2020-08-05 10:31:40.057|9           |2020-08-05 09:30:00|0E-14            |76.69653634240801|100     |78.56942375735030|100     |Q        |\n|2020-08-05|T       |SYMA  |NYSE    |2020-08-05 10:37:21.581|10          |2020-08-05 09:30:00|79.19488165597565|0E-14            |0       |0E-14            |0       |T        |\n+----------+--------+------+--------+-----------------------+------------+-------------------+-----------------+-----------------+--------+-----------------+--------+---------+\nonly showing top 10 rows\n\n</div>",
       "datasetInfos": [],
       "metadata": {},
       "removedWidgets": [],
       "type": "html"
      }
     },
     "output_type": "display_data"
    }
   ],
   "source": [
    "# Display .csv dataframe after parsing\n",
    "data_csv.show(10, truncate=False)"
   ]
  },
  {
   "cell_type": "code",
   "execution_count": null,
   "metadata": {
    "application/vnd.databricks.v1+cell": {
     "inputWidgets": {},
     "nuid": "847f2c15-7eb0-4b0d-a327-5acdd551cf08",
     "showTitle": false,
     "title": ""
    }
   },
   "outputs": [
    {
     "data": {
      "text/html": [
       "<style scoped>\n",
       "  .ansiout {\n",
       "    display: block;\n",
       "    unicode-bidi: embed;\n",
       "    white-space: pre-wrap;\n",
       "    word-wrap: break-word;\n",
       "    word-break: break-all;\n",
       "    font-family: \"Source Code Pro\", \"Menlo\", monospace;;\n",
       "    font-size: 13px;\n",
       "    color: #555;\n",
       "    margin-left: 4px;\n",
       "    line-height: 19px;\n",
       "  }\n",
       "</style>\n",
       "<div class=\"ansiout\"></div>"
      ]
     },
     "metadata": {
      "application/vnd.databricks.v1+output": {
       "addedWidgets": {},
       "arguments": {},
       "data": "<div class=\"ansiout\"></div>",
       "datasetInfos": [],
       "metadata": {},
       "removedWidgets": [],
       "type": "html"
      }
     },
     "output_type": "display_data"
    }
   ],
   "source": [
    "# Save .csv dataframe after parsing as a parquet file\n",
    "data_csv.write.partitionBy(\"partition\").mode(\"overwrite\").parquet(\"dbfs:/mnt/FileStore/MountFolder/output_dir\")"
   ]
  },
  {
   "cell_type": "code",
   "execution_count": null,
   "metadata": {
    "application/vnd.databricks.v1+cell": {
     "inputWidgets": {},
     "nuid": "cbe209c7-0612-4ec1-b95b-d9366c1a7aae",
     "showTitle": false,
     "title": ""
    }
   },
   "outputs": [
    {
     "data": {
      "text/html": [
       "<style scoped>\n",
       "  .table-result-container {\n",
       "    max-height: 300px;\n",
       "    overflow: auto;\n",
       "  }\n",
       "  table, th, td {\n",
       "    border: 1px solid black;\n",
       "    border-collapse: collapse;\n",
       "  }\n",
       "  th, td {\n",
       "    padding: 5px;\n",
       "  }\n",
       "  th {\n",
       "    text-align: left;\n",
       "  }\n",
       "</style><div class='table-result-container'><table class='table-result'><thead style='background-color: white'><tr><th>path</th><th>name</th><th>size</th></tr></thead><tbody><tr><td>dbfs:/mnt/FileStore/MountFolder/output_dir/_SUCCESS</td><td>_SUCCESS</td><td>0</td></tr><tr><td>dbfs:/mnt/FileStore/MountFolder/output_dir/_committed_2468780923525334882</td><td>_committed_2468780923525334882</td><td>35</td></tr><tr><td>dbfs:/mnt/FileStore/MountFolder/output_dir/partition=Q/</td><td>partition=Q/</td><td>0</td></tr><tr><td>dbfs:/mnt/FileStore/MountFolder/output_dir/partition=T/</td><td>partition=T/</td><td>0</td></tr></tbody></table></div>"
      ]
     },
     "metadata": {
      "application/vnd.databricks.v1+output": {
       "addedWidgets": {},
       "aggData": [],
       "aggError": "",
       "aggOverflow": false,
       "aggSchema": [],
       "aggSeriesLimitReached": false,
       "aggType": "",
       "arguments": {},
       "columnCustomDisplayInfos": {},
       "data": [
        [
         "dbfs:/mnt/FileStore/MountFolder/output_dir/_SUCCESS",
         "_SUCCESS",
         0
        ],
        [
         "dbfs:/mnt/FileStore/MountFolder/output_dir/_committed_2468780923525334882",
         "_committed_2468780923525334882",
         35
        ],
        [
         "dbfs:/mnt/FileStore/MountFolder/output_dir/partition=Q/",
         "partition=Q/",
         0
        ],
        [
         "dbfs:/mnt/FileStore/MountFolder/output_dir/partition=T/",
         "partition=T/",
         0
        ]
       ],
       "datasetInfos": [],
       "dbfsResultPath": null,
       "isJsonSchema": true,
       "metadata": {},
       "overflow": false,
       "plotOptions": {
        "customPlotOptions": {},
        "displayType": "table",
        "pivotAggregation": null,
        "pivotColumns": null,
        "xColumns": null,
        "yColumns": null
       },
       "removedWidgets": [],
       "schema": [
        {
         "metadata": "{}",
         "name": "path",
         "type": "\"string\""
        },
        {
         "metadata": "{}",
         "name": "name",
         "type": "\"string\""
        },
        {
         "metadata": "{}",
         "name": "size",
         "type": "\"long\""
        }
       ],
       "type": "table"
      }
     },
     "output_type": "display_data"
    }
   ],
   "source": [
    "# Display status\n",
    "display(dbutils.fs.ls(\"dbfs:/mnt/FileStore/MountFolder/output_dir\"))"
   ]
  },
  {
   "cell_type": "code",
   "execution_count": null,
   "metadata": {
    "application/vnd.databricks.v1+cell": {
     "inputWidgets": {},
     "nuid": "f5b08109-9091-4475-855e-7ccc6e82b515",
     "showTitle": false,
     "title": ""
    }
   },
   "outputs": [
    {
     "data": {
      "text/html": [
       "<style scoped>\n",
       "  .table-result-container {\n",
       "    max-height: 300px;\n",
       "    overflow: auto;\n",
       "  }\n",
       "  table, th, td {\n",
       "    border: 1px solid black;\n",
       "    border-collapse: collapse;\n",
       "  }\n",
       "  th, td {\n",
       "    padding: 5px;\n",
       "  }\n",
       "  th {\n",
       "    text-align: left;\n",
       "  }\n",
       "</style><div class='table-result-container'><table class='table-result'><thead style='background-color: white'><tr><th>path</th><th>name</th><th>size</th></tr></thead><tbody><tr><td>dbfs:/mnt/FileStore/MountFolder/output_dir/partition=Q/_SUCCESS</td><td>_SUCCESS</td><td>0</td></tr><tr><td>dbfs:/mnt/FileStore/MountFolder/output_dir/partition=Q/_committed_1039567998148144155</td><td>_committed_1039567998148144155</td><td>222</td></tr><tr><td>dbfs:/mnt/FileStore/MountFolder/output_dir/partition=Q/_committed_2468780923525334882</td><td>_committed_2468780923525334882</td><td>430</td></tr><tr><td>dbfs:/mnt/FileStore/MountFolder/output_dir/partition=Q/_started_1039567998148144155</td><td>_started_1039567998148144155</td><td>0</td></tr><tr><td>dbfs:/mnt/FileStore/MountFolder/output_dir/partition=Q/_started_2468780923525334882</td><td>_started_2468780923525334882</td><td>0</td></tr><tr><td>dbfs:/mnt/FileStore/MountFolder/output_dir/partition=Q/part-00000-tid-2468780923525334882-2223570c-e759-4116-9153-e0e14aea4ed2-26-1.c000.snappy.parquet</td><td>part-00000-tid-2468780923525334882-2223570c-e759-4116-9153-e0e14aea4ed2-26-1.c000.snappy.parquet</td><td>10743</td></tr><tr><td>dbfs:/mnt/FileStore/MountFolder/output_dir/partition=Q/part-00001-tid-2468780923525334882-2223570c-e759-4116-9153-e0e14aea4ed2-27-1.c000.snappy.parquet</td><td>part-00001-tid-2468780923525334882-2223570c-e759-4116-9153-e0e14aea4ed2-27-1.c000.snappy.parquet</td><td>10755</td></tr></tbody></table></div>"
      ]
     },
     "metadata": {
      "application/vnd.databricks.v1+output": {
       "addedWidgets": {},
       "aggData": [],
       "aggError": "",
       "aggOverflow": false,
       "aggSchema": [],
       "aggSeriesLimitReached": false,
       "aggType": "",
       "arguments": {},
       "columnCustomDisplayInfos": {},
       "data": [
        [
         "dbfs:/mnt/FileStore/MountFolder/output_dir/partition=Q/_SUCCESS",
         "_SUCCESS",
         0
        ],
        [
         "dbfs:/mnt/FileStore/MountFolder/output_dir/partition=Q/_committed_1039567998148144155",
         "_committed_1039567998148144155",
         222
        ],
        [
         "dbfs:/mnt/FileStore/MountFolder/output_dir/partition=Q/_committed_2468780923525334882",
         "_committed_2468780923525334882",
         430
        ],
        [
         "dbfs:/mnt/FileStore/MountFolder/output_dir/partition=Q/_started_1039567998148144155",
         "_started_1039567998148144155",
         0
        ],
        [
         "dbfs:/mnt/FileStore/MountFolder/output_dir/partition=Q/_started_2468780923525334882",
         "_started_2468780923525334882",
         0
        ],
        [
         "dbfs:/mnt/FileStore/MountFolder/output_dir/partition=Q/part-00000-tid-2468780923525334882-2223570c-e759-4116-9153-e0e14aea4ed2-26-1.c000.snappy.parquet",
         "part-00000-tid-2468780923525334882-2223570c-e759-4116-9153-e0e14aea4ed2-26-1.c000.snappy.parquet",
         10743
        ],
        [
         "dbfs:/mnt/FileStore/MountFolder/output_dir/partition=Q/part-00001-tid-2468780923525334882-2223570c-e759-4116-9153-e0e14aea4ed2-27-1.c000.snappy.parquet",
         "part-00001-tid-2468780923525334882-2223570c-e759-4116-9153-e0e14aea4ed2-27-1.c000.snappy.parquet",
         10755
        ]
       ],
       "datasetInfos": [],
       "dbfsResultPath": null,
       "isJsonSchema": true,
       "metadata": {},
       "overflow": false,
       "plotOptions": {
        "customPlotOptions": {},
        "displayType": "table",
        "pivotAggregation": null,
        "pivotColumns": null,
        "xColumns": null,
        "yColumns": null
       },
       "removedWidgets": [],
       "schema": [
        {
         "metadata": "{}",
         "name": "path",
         "type": "\"string\""
        },
        {
         "metadata": "{}",
         "name": "name",
         "type": "\"string\""
        },
        {
         "metadata": "{}",
         "name": "size",
         "type": "\"long\""
        }
       ],
       "type": "table"
      }
     },
     "output_type": "display_data"
    }
   ],
   "source": [
    "# Display status of Parquet file save\n",
    "display(dbutils.fs.ls(\"dbfs:/mnt/FileStore/MountFolder/output_dir/partition=Q/\"))"
   ]
  },
  {
   "cell_type": "code",
   "execution_count": null,
   "metadata": {
    "application/vnd.databricks.v1+cell": {
     "inputWidgets": {},
     "nuid": "50e656ab-3473-4192-95c6-da66785cc096",
     "showTitle": false,
     "title": ""
    }
   },
   "outputs": [
    {
     "data": {
      "text/html": [
       "<style scoped>\n",
       "  .ansiout {\n",
       "    display: block;\n",
       "    unicode-bidi: embed;\n",
       "    white-space: pre-wrap;\n",
       "    word-wrap: break-word;\n",
       "    word-break: break-all;\n",
       "    font-family: \"Source Code Pro\", \"Menlo\", monospace;;\n",
       "    font-size: 13px;\n",
       "    color: #555;\n",
       "    margin-left: 4px;\n",
       "    line-height: 19px;\n",
       "  }\n",
       "</style>\n",
       "<div class=\"ansiout\"></div>"
      ]
     },
     "metadata": {
      "application/vnd.databricks.v1+output": {
       "addedWidgets": {},
       "arguments": {},
       "data": "<div class=\"ansiout\"></div>",
       "datasetInfos": [],
       "metadata": {},
       "removedWidgets": [],
       "type": "html"
      }
     },
     "output_type": "display_data"
    }
   ],
   "source": [
    "# JSON PARSER\n",
    "# Import libraries\n",
    "from pyspark.sql import SparkSession\n",
    "from pyspark.sql.types import StructType,StructField, StringType, IntegerType ,LongType\n",
    "from pyspark.sql.types import ArrayType, DoubleType, BooleanType, DateType, TimestampType, DecimalType\n",
    "\n",
    "import json\n",
    "from decimal import Decimal \n",
    "import datetime\n",
    "\n",
    "def parse_json(line:str):\n",
    "    \"\"\"\n",
    "      Function to parse json records\n",
    "      \n",
    "    \"\"\"\n",
    "    try:\n",
    "        # built-in function to parse the json file\n",
    "        record = json.loads(line)\n",
    "        \n",
    "        # Common fields applicable to both 'Q' and 'T' type records\n",
    "        record_type = record['event_type']\n",
    "        trade_dt= datetime.datetime.strptime(record['trade_dt'], '%Y-%m-%d')\n",
    "        arrival_tm=datetime.datetime.strptime(record['file_tm'], '%Y-%m-%d %H:%M:%S.%f')\n",
    "        rec_type=record_type\n",
    "        symbol=record['symbol']\n",
    "        exchange=record['exchange']\n",
    "        event_tm=datetime.datetime.strptime(record['event_tm'], '%Y-%m-%d %H:%M:%S.%f')\n",
    "        event_seq_nb=int(record['event_seq_nb'])\n",
    "\n",
    "        # capturing field values specific to \"T\" type records\n",
    "        if record_type == \"T\":\n",
    "            trade_pr=Decimal(record['price'])\n",
    "            event = (trade_dt,rec_type,symbol,exchange,event_tm,event_seq_nb,arrival_tm,\\\n",
    "                     trade_pr,Decimal('0.0'),0,Decimal('0.0'),0,\"T\")\n",
    "            return event\n",
    "        \n",
    "        # capturing field values specific to \"Q\" type records\n",
    "        elif record_type == \"Q\":\n",
    "            bid_pr=Decimal(record['bid_pr'])\n",
    "            bid_size=int(record['bid_size'])\n",
    "            ask_pr=Decimal(record['ask_pr'])\n",
    "            ask_size=int(record['ask_size'])\n",
    "            event = (trade_dt,rec_type,symbol,exchange,event_tm,event_seq_nb,arrival_tm,\\\n",
    "                     Decimal('0.0'),bid_pr,bid_size,ask_pr,ask_size,\"Q\")\n",
    "            return event\n",
    "\n",
    "    # capture record in a bad partition if any error occurs\n",
    "    except Exception as e:\n",
    "            return (\"\",\"\",\"\",\"\",\"\",\"\",\"\",\"\",\"\",\"\",\"\",\"B\",line)\n",
    "\n",
    "\n",
    "\n",
    "## Spark to process the source data (below line is for local execution)\n",
    "spark = SparkSession.builder.master('local').appName('app').getOrCreate()\n",
    "\n",
    "# schema to parse both Q and T type records\n",
    "common_event = StructType() \\\n",
    "              .add(\"trade_dt\",DateType(),True) \\\n",
    "              .add(\"rec_type\",StringType(),True) \\\n",
    "              .add(\"symbol\",StringType(),True) \\\n",
    "              .add(\"exchange\",StringType(),True) \\\n",
    "              .add(\"event_tm\",TimestampType(),True) \\\n",
    "              .add(\"event_seq_nb\",IntegerType(),True) \\\n",
    "              .add(\"arrival_tm\",TimestampType(),True) \\\n",
    "              .add(\"trade_pr\",DecimalType(17,14),True) \\\n",
    "              .add(\"bid_pr\",DecimalType(17,14),True) \\\n",
    "              .add(\"bid_size\",IntegerType(),True) \\\n",
    "              .add(\"ask_pr\",DecimalType(17,14),True) \\\n",
    "              .add(\"ask_size\",IntegerType(),True) \\\n",
    "              .add(\"partition\",StringType(),True)\n",
    "\n",
    "\n",
    "raw = spark.sparkContext.textFile(\"dbfs:/mnt/FileStore/MountFolder/data/json/*/NASDAQ/*.txt\")\n",
    "parsed = raw.map(lambda line: parse_json(line))\n",
    "data_json = spark.createDataFrame(parsed,schema=common_event)\n",
    "\n",
    "# Save the final dataframe as parquet files in partitions\n",
    "data_json.write.partitionBy(\"partition\").mode(\"overwrite\").parquet(\"dbfs:/mnt/FileStore/MountFolder/output_dir_json\")"
   ]
  },
  {
   "cell_type": "code",
   "execution_count": null,
   "metadata": {
    "application/vnd.databricks.v1+cell": {
     "inputWidgets": {},
     "nuid": "ed413d0e-4f23-47a9-b993-4e28ad8449ec",
     "showTitle": false,
     "title": ""
    }
   },
   "outputs": [
    {
     "data": {
      "text/html": [
       "<style scoped>\n",
       "  .ansiout {\n",
       "    display: block;\n",
       "    unicode-bidi: embed;\n",
       "    white-space: pre-wrap;\n",
       "    word-wrap: break-word;\n",
       "    word-break: break-all;\n",
       "    font-family: \"Source Code Pro\", \"Menlo\", monospace;;\n",
       "    font-size: 13px;\n",
       "    color: #555;\n",
       "    margin-left: 4px;\n",
       "    line-height: 19px;\n",
       "  }\n",
       "</style>\n",
       "<div class=\"ansiout\">+----------+--------+------+--------+-----------------------+------------+-------------------+-----------------+-----------------+--------+-----------------+--------+---------+\n",
       "trade_dt  |rec_type|symbol|exchange|event_tm               |event_seq_nb|arrival_tm         |trade_pr         |bid_pr           |bid_size|ask_pr           |ask_size|partition|\n",
       "+----------+--------+------+--------+-----------------------+------------+-------------------+-----------------+-----------------+--------+-----------------+--------+---------+\n",
       "2020-08-05|Q       |SYMA  |NASDAQ  |2020-08-05 09:36:55.284|1           |2020-08-05 09:30:00|0E-14            |76.10016521142818|100     |77.96479759087470|100     |Q        |\n",
       "2020-08-05|Q       |SYMA  |NASDAQ  |2020-08-05 09:42:32.247|2           |2020-08-05 09:30:00|0E-14            |75.44372945251948|100     |75.94452858561046|100     |Q        |\n",
       "2020-08-05|Q       |SYMA  |NASDAQ  |2020-08-05 09:48:06.767|3           |2020-08-05 09:30:00|0E-14            |78.84798564828422|100     |80.69114407667608|100     |Q        |\n",
       "2020-08-05|Q       |SYMA  |NASDAQ  |2020-08-05 09:53:09.803|4           |2020-08-05 09:30:00|0E-14            |74.98336890552693|100     |76.16256530811053|100     |Q        |\n",
       "2020-08-05|Q       |SYMA  |NASDAQ  |2020-08-05 10:00:10.866|5           |2020-08-05 09:30:00|0E-14            |76.71408448666702|100     |77.85512785142082|100     |Q        |\n",
       "2020-08-05|Q       |SYMA  |NASDAQ  |2020-08-05 10:05:24.344|6           |2020-08-05 09:30:00|0E-14            |76.78900747031288|100     |77.79982571852163|100     |Q        |\n",
       "2020-08-05|Q       |SYMA  |NASDAQ  |2020-08-05 10:13:59.224|7           |2020-08-05 09:30:00|0E-14            |76.37099394549293|100     |76.94631910510188|100     |Q        |\n",
       "2020-08-05|Q       |SYMA  |NASDAQ  |2020-08-05 10:21:43.76 |8           |2020-08-05 09:30:00|0E-14            |77.32601214334609|100     |77.65017757988643|100     |Q        |\n",
       "2020-08-05|Q       |SYMA  |NASDAQ  |2020-08-05 10:30:33.547|9           |2020-08-05 09:30:00|0E-14            |77.11395059665263|100     |77.52985832434904|100     |Q        |\n",
       "2020-08-05|T       |SYMA  |NASDAQ  |2020-08-05 10:38:50.046|10          |2020-08-05 09:30:00|77.77570455205036|0E-14            |0       |0E-14            |0       |T        |\n",
       "+----------+--------+------+--------+-----------------------+------------+-------------------+-----------------+-----------------+--------+-----------------+--------+---------+\n",
       "only showing top 10 rows\n",
       "\n",
       "</div>"
      ]
     },
     "metadata": {
      "application/vnd.databricks.v1+output": {
       "addedWidgets": {},
       "arguments": {},
       "data": "<div class=\"ansiout\">+----------+--------+------+--------+-----------------------+------------+-------------------+-----------------+-----------------+--------+-----------------+--------+---------+\n|trade_dt  |rec_type|symbol|exchange|event_tm               |event_seq_nb|arrival_tm         |trade_pr         |bid_pr           |bid_size|ask_pr           |ask_size|partition|\n+----------+--------+------+--------+-----------------------+------------+-------------------+-----------------+-----------------+--------+-----------------+--------+---------+\n|2020-08-05|Q       |SYMA  |NASDAQ  |2020-08-05 09:36:55.284|1           |2020-08-05 09:30:00|0E-14            |76.10016521142818|100     |77.96479759087470|100     |Q        |\n|2020-08-05|Q       |SYMA  |NASDAQ  |2020-08-05 09:42:32.247|2           |2020-08-05 09:30:00|0E-14            |75.44372945251948|100     |75.94452858561046|100     |Q        |\n|2020-08-05|Q       |SYMA  |NASDAQ  |2020-08-05 09:48:06.767|3           |2020-08-05 09:30:00|0E-14            |78.84798564828422|100     |80.69114407667608|100     |Q        |\n|2020-08-05|Q       |SYMA  |NASDAQ  |2020-08-05 09:53:09.803|4           |2020-08-05 09:30:00|0E-14            |74.98336890552693|100     |76.16256530811053|100     |Q        |\n|2020-08-05|Q       |SYMA  |NASDAQ  |2020-08-05 10:00:10.866|5           |2020-08-05 09:30:00|0E-14            |76.71408448666702|100     |77.85512785142082|100     |Q        |\n|2020-08-05|Q       |SYMA  |NASDAQ  |2020-08-05 10:05:24.344|6           |2020-08-05 09:30:00|0E-14            |76.78900747031288|100     |77.79982571852163|100     |Q        |\n|2020-08-05|Q       |SYMA  |NASDAQ  |2020-08-05 10:13:59.224|7           |2020-08-05 09:30:00|0E-14            |76.37099394549293|100     |76.94631910510188|100     |Q        |\n|2020-08-05|Q       |SYMA  |NASDAQ  |2020-08-05 10:21:43.76 |8           |2020-08-05 09:30:00|0E-14            |77.32601214334609|100     |77.65017757988643|100     |Q        |\n|2020-08-05|Q       |SYMA  |NASDAQ  |2020-08-05 10:30:33.547|9           |2020-08-05 09:30:00|0E-14            |77.11395059665263|100     |77.52985832434904|100     |Q        |\n|2020-08-05|T       |SYMA  |NASDAQ  |2020-08-05 10:38:50.046|10          |2020-08-05 09:30:00|77.77570455205036|0E-14            |0       |0E-14            |0       |T        |\n+----------+--------+------+--------+-----------------------+------------+-------------------+-----------------+-----------------+--------+-----------------+--------+---------+\nonly showing top 10 rows\n\n</div>",
       "datasetInfos": [],
       "metadata": {},
       "removedWidgets": [],
       "type": "html"
      }
     },
     "output_type": "display_data"
    }
   ],
   "source": [
    "# Display .json file in a dataframe\n",
    "data_json.show(10,truncate=False)"
   ]
  },
  {
   "cell_type": "code",
   "execution_count": null,
   "metadata": {
    "application/vnd.databricks.v1+cell": {
     "inputWidgets": {},
     "nuid": "fca2ff0e-cd60-4625-bed0-7fa14bf2f805",
     "showTitle": false,
     "title": ""
    }
   },
   "outputs": [
    {
     "data": {
      "text/html": [
       "<style scoped>\n",
       "  .ansiout {\n",
       "    display: block;\n",
       "    unicode-bidi: embed;\n",
       "    white-space: pre-wrap;\n",
       "    word-wrap: break-word;\n",
       "    word-break: break-all;\n",
       "    font-family: \"Source Code Pro\", \"Menlo\", monospace;;\n",
       "    font-size: 13px;\n",
       "    color: #555;\n",
       "    margin-left: 4px;\n",
       "    line-height: 19px;\n",
       "  }\n",
       "</style>\n",
       "<div class=\"ansiout\"></div>"
      ]
     },
     "metadata": {
      "application/vnd.databricks.v1+output": {
       "addedWidgets": {},
       "arguments": {},
       "data": "<div class=\"ansiout\"></div>",
       "datasetInfos": [],
       "metadata": {},
       "removedWidgets": [],
       "type": "html"
      }
     },
     "output_type": "display_data"
    }
   ],
   "source": [
    "# Save .json dataframe after parsing as a parquet file\n",
    "data_json.write.partitionBy(\"partition\").mode(\"overwrite\").parquet(\"dbfs:/mnt/FileStore/MountFolder/output_dir_json\")"
   ]
  },
  {
   "cell_type": "code",
   "execution_count": null,
   "metadata": {
    "application/vnd.databricks.v1+cell": {
     "inputWidgets": {},
     "nuid": "3ff425ab-e5f0-406f-98b7-9272950b0dc7",
     "showTitle": false,
     "title": ""
    }
   },
   "outputs": [
    {
     "data": {
      "text/html": [
       "<style scoped>\n",
       "  .table-result-container {\n",
       "    max-height: 300px;\n",
       "    overflow: auto;\n",
       "  }\n",
       "  table, th, td {\n",
       "    border: 1px solid black;\n",
       "    border-collapse: collapse;\n",
       "  }\n",
       "  th, td {\n",
       "    padding: 5px;\n",
       "  }\n",
       "  th {\n",
       "    text-align: left;\n",
       "  }\n",
       "</style><div class='table-result-container'><table class='table-result'><thead style='background-color: white'><tr><th>path</th><th>name</th><th>size</th></tr></thead><tbody><tr><td>dbfs:/mnt/FileStore/MountFolder/output_dir_json/_SUCCESS</td><td>_SUCCESS</td><td>0</td></tr><tr><td>dbfs:/mnt/FileStore/MountFolder/output_dir_json/_committed_8671808673027994356</td><td>_committed_8671808673027994356</td><td>35</td></tr><tr><td>dbfs:/mnt/FileStore/MountFolder/output_dir_json/partition=Q/</td><td>partition=Q/</td><td>0</td></tr><tr><td>dbfs:/mnt/FileStore/MountFolder/output_dir_json/partition=T/</td><td>partition=T/</td><td>0</td></tr></tbody></table></div>"
      ]
     },
     "metadata": {
      "application/vnd.databricks.v1+output": {
       "addedWidgets": {},
       "aggData": [],
       "aggError": "",
       "aggOverflow": false,
       "aggSchema": [],
       "aggSeriesLimitReached": false,
       "aggType": "",
       "arguments": {},
       "columnCustomDisplayInfos": {},
       "data": [
        [
         "dbfs:/mnt/FileStore/MountFolder/output_dir_json/_SUCCESS",
         "_SUCCESS",
         0
        ],
        [
         "dbfs:/mnt/FileStore/MountFolder/output_dir_json/_committed_8671808673027994356",
         "_committed_8671808673027994356",
         35
        ],
        [
         "dbfs:/mnt/FileStore/MountFolder/output_dir_json/partition=Q/",
         "partition=Q/",
         0
        ],
        [
         "dbfs:/mnt/FileStore/MountFolder/output_dir_json/partition=T/",
         "partition=T/",
         0
        ]
       ],
       "datasetInfos": [],
       "dbfsResultPath": null,
       "isJsonSchema": true,
       "metadata": {},
       "overflow": false,
       "plotOptions": {
        "customPlotOptions": {},
        "displayType": "table",
        "pivotAggregation": null,
        "pivotColumns": null,
        "xColumns": null,
        "yColumns": null
       },
       "removedWidgets": [],
       "schema": [
        {
         "metadata": "{}",
         "name": "path",
         "type": "\"string\""
        },
        {
         "metadata": "{}",
         "name": "name",
         "type": "\"string\""
        },
        {
         "metadata": "{}",
         "name": "size",
         "type": "\"long\""
        }
       ],
       "type": "table"
      }
     },
     "output_type": "display_data"
    }
   ],
   "source": [
    "# Display status of .json file write\n",
    "display(dbutils.fs.ls(\"dbfs:/mnt/FileStore/MountFolder/output_dir_json\"))"
   ]
  },
  {
   "cell_type": "code",
   "execution_count": null,
   "metadata": {
    "application/vnd.databricks.v1+cell": {
     "inputWidgets": {},
     "nuid": "0d74d045-961d-4981-8a61-341d5a8be301",
     "showTitle": false,
     "title": ""
    }
   },
   "outputs": [
    {
     "data": {
      "text/html": [
       "<style scoped>\n",
       "  .table-result-container {\n",
       "    max-height: 300px;\n",
       "    overflow: auto;\n",
       "  }\n",
       "  table, th, td {\n",
       "    border: 1px solid black;\n",
       "    border-collapse: collapse;\n",
       "  }\n",
       "  th, td {\n",
       "    padding: 5px;\n",
       "  }\n",
       "  th {\n",
       "    text-align: left;\n",
       "  }\n",
       "</style><div class='table-result-container'><table class='table-result'><thead style='background-color: white'><tr><th>path</th><th>name</th><th>size</th></tr></thead><tbody><tr><td>dbfs:/mnt/FileStore/MountFolder/output_dir_json/partition=Q/_SUCCESS</td><td>_SUCCESS</td><td>0</td></tr><tr><td>dbfs:/mnt/FileStore/MountFolder/output_dir_json/partition=Q/_committed_2265823041017308852</td><td>_committed_2265823041017308852</td><td>222</td></tr><tr><td>dbfs:/mnt/FileStore/MountFolder/output_dir_json/partition=Q/_committed_8671808673027994356</td><td>_committed_8671808673027994356</td><td>430</td></tr><tr><td>dbfs:/mnt/FileStore/MountFolder/output_dir_json/partition=Q/_started_2265823041017308852</td><td>_started_2265823041017308852</td><td>0</td></tr><tr><td>dbfs:/mnt/FileStore/MountFolder/output_dir_json/partition=Q/_started_8671808673027994356</td><td>_started_8671808673027994356</td><td>0</td></tr><tr><td>dbfs:/mnt/FileStore/MountFolder/output_dir_json/partition=Q/part-00000-tid-8671808673027994356-45bf1b3f-dec0-4a39-a27e-7f967bff8097-37-1.c000.snappy.parquet</td><td>part-00000-tid-8671808673027994356-45bf1b3f-dec0-4a39-a27e-7f967bff8097-37-1.c000.snappy.parquet</td><td>10764</td></tr><tr><td>dbfs:/mnt/FileStore/MountFolder/output_dir_json/partition=Q/part-00001-tid-8671808673027994356-45bf1b3f-dec0-4a39-a27e-7f967bff8097-38-1.c000.snappy.parquet</td><td>part-00001-tid-8671808673027994356-45bf1b3f-dec0-4a39-a27e-7f967bff8097-38-1.c000.snappy.parquet</td><td>10772</td></tr></tbody></table></div>"
      ]
     },
     "metadata": {
      "application/vnd.databricks.v1+output": {
       "addedWidgets": {},
       "aggData": [],
       "aggError": "",
       "aggOverflow": false,
       "aggSchema": [],
       "aggSeriesLimitReached": false,
       "aggType": "",
       "arguments": {},
       "columnCustomDisplayInfos": {},
       "data": [
        [
         "dbfs:/mnt/FileStore/MountFolder/output_dir_json/partition=Q/_SUCCESS",
         "_SUCCESS",
         0
        ],
        [
         "dbfs:/mnt/FileStore/MountFolder/output_dir_json/partition=Q/_committed_2265823041017308852",
         "_committed_2265823041017308852",
         222
        ],
        [
         "dbfs:/mnt/FileStore/MountFolder/output_dir_json/partition=Q/_committed_8671808673027994356",
         "_committed_8671808673027994356",
         430
        ],
        [
         "dbfs:/mnt/FileStore/MountFolder/output_dir_json/partition=Q/_started_2265823041017308852",
         "_started_2265823041017308852",
         0
        ],
        [
         "dbfs:/mnt/FileStore/MountFolder/output_dir_json/partition=Q/_started_8671808673027994356",
         "_started_8671808673027994356",
         0
        ],
        [
         "dbfs:/mnt/FileStore/MountFolder/output_dir_json/partition=Q/part-00000-tid-8671808673027994356-45bf1b3f-dec0-4a39-a27e-7f967bff8097-37-1.c000.snappy.parquet",
         "part-00000-tid-8671808673027994356-45bf1b3f-dec0-4a39-a27e-7f967bff8097-37-1.c000.snappy.parquet",
         10764
        ],
        [
         "dbfs:/mnt/FileStore/MountFolder/output_dir_json/partition=Q/part-00001-tid-8671808673027994356-45bf1b3f-dec0-4a39-a27e-7f967bff8097-38-1.c000.snappy.parquet",
         "part-00001-tid-8671808673027994356-45bf1b3f-dec0-4a39-a27e-7f967bff8097-38-1.c000.snappy.parquet",
         10772
        ]
       ],
       "datasetInfos": [],
       "dbfsResultPath": null,
       "isJsonSchema": true,
       "metadata": {},
       "overflow": false,
       "plotOptions": {
        "customPlotOptions": {},
        "displayType": "table",
        "pivotAggregation": null,
        "pivotColumns": null,
        "xColumns": null,
        "yColumns": null
       },
       "removedWidgets": [],
       "schema": [
        {
         "metadata": "{}",
         "name": "path",
         "type": "\"string\""
        },
        {
         "metadata": "{}",
         "name": "name",
         "type": "\"string\""
        },
        {
         "metadata": "{}",
         "name": "size",
         "type": "\"long\""
        }
       ],
       "type": "table"
      }
     },
     "output_type": "display_data"
    }
   ],
   "source": [
    "# Display status of Parquet file save\n",
    "display(dbutils.fs.ls(\"dbfs:/mnt/FileStore/MountFolder/output_dir_json/partition=Q/\"))"
   ]
  },
  {
   "cell_type": "code",
   "execution_count": null,
   "metadata": {
    "application/vnd.databricks.v1+cell": {
     "inputWidgets": {},
     "nuid": "51f68e13-7ba7-4bf9-89b4-b4a40b5524d6",
     "showTitle": false,
     "title": ""
    }
   },
   "outputs": [
    {
     "data": {
      "text/html": [
       "<style scoped>\n",
       "  .ansiout {\n",
       "    display: block;\n",
       "    unicode-bidi: embed;\n",
       "    white-space: pre-wrap;\n",
       "    word-wrap: break-word;\n",
       "    word-break: break-all;\n",
       "    font-family: \"Source Code Pro\", \"Menlo\", monospace;;\n",
       "    font-size: 13px;\n",
       "    color: #555;\n",
       "    margin-left: 4px;\n",
       "    line-height: 19px;\n",
       "  }\n",
       "</style>"
      ]
     },
     "metadata": {
      "application/vnd.databricks.v1+output": {
       "arguments": {},
       "data": "",
       "errorSummary": "",
       "metadata": {},
       "type": "ipynbError"
      }
     },
     "output_type": "display_data"
    }
   ],
   "source": []
  }
 ],
 "metadata": {
  "application/vnd.databricks.v1+notebook": {
   "dashboards": [],
   "language": "python",
   "notebookMetadata": {
    "pythonIndentUnit": 2
   },
   "notebookName": "etl_tool",
   "notebookOrigID": 1619248639138205,
   "widgets": {}
  },
  "kernelspec": {
   "display_name": "Python 3",
   "language": "python",
   "name": "python3"
  },
  "language_info": {
   "codemirror_mode": {
    "name": "ipython",
    "version": 3
   },
   "file_extension": ".py",
   "mimetype": "text/x-python",
   "name": "python",
   "nbconvert_exporter": "python",
   "pygments_lexer": "ipython3",
   "version": "3.8.8"
  }
 },
 "nbformat": 4,
 "nbformat_minor": 4
}
